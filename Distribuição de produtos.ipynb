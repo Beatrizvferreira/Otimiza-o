{
  "nbformat": 4,
  "nbformat_minor": 0,
  "metadata": {
    "colab": {
      "name": "Trabalho 4 - parte 1",
      "provenance": [],
      "collapsed_sections": [],
      "include_colab_link": true
    },
    "kernelspec": {
      "name": "python3",
      "display_name": "Python 3"
    }
  },
  "cells": [
    {
      "cell_type": "markdown",
      "metadata": {
        "id": "view-in-github",
        "colab_type": "text"
      },
      "source": [
        "<a href=\"https://colab.research.google.com/github/Beatrizvferreira/Otimizacao/blob/master/Distribui%C3%A7%C3%A3o%20de%20produtos.ipynb\" target=\"_parent\"><img src=\"https://colab.research.google.com/assets/colab-badge.svg\" alt=\"Open In Colab\"/></a>"
      ]
    },
    {
      "cell_type": "code",
      "metadata": {
        "id": "D7uMhvmHNT87",
        "colab": {
          "base_uri": "https://localhost:8080/",
          "height": 85
        },
        "outputId": "a26d991d-ff80-45cc-e39d-25a9c3260e8d"
      },
      "source": [
        "!pip install pulp"
      ],
      "execution_count": null,
      "outputs": [
        {
          "output_type": "stream",
          "text": [
            "Requirement already satisfied: pulp in /usr/local/lib/python3.6/dist-packages (2.3)\n",
            "Requirement already satisfied: amply>=0.1.2 in /usr/local/lib/python3.6/dist-packages (from pulp) (0.1.2)\n",
            "Requirement already satisfied: docutils>=0.3 in /usr/local/lib/python3.6/dist-packages (from amply>=0.1.2->pulp) (0.15.2)\n",
            "Requirement already satisfied: pyparsing in /usr/local/lib/python3.6/dist-packages (from amply>=0.1.2->pulp) (2.4.7)\n"
          ],
          "name": "stdout"
        }
      ]
    },
    {
      "cell_type": "code",
      "metadata": {
        "id": "G-kI5lrnWerW",
        "colab": {
          "base_uri": "https://localhost:8080/",
          "height": 680
        },
        "outputId": "8339bd8c-cd1d-454a-fc50-63a761e854cb"
      },
      "source": [
        "\n",
        "\n",
        "from pulp import LpProblem, LpVariable, LpMinimize, lpSum, value, LpStatus\n",
        "\n",
        "prob = LpProblem(\"Lista4_Parte1\", LpMinimize)\n",
        "\n",
        "#Definição de variáveis\n",
        "\n",
        "lst_entrmin = [25, 30, 30, 35, 25]\n",
        "\n",
        "mtzX = LpVariable.dicts(\"Matriz X\", [(i,j) for i in range(5) for j in range(10)], lowBound=0, cat = 'Integer')\n",
        "\n",
        "mtzY = LpVariable.dicts(\"Matriz Y\", [(i,j) for i in range(5) for j in range(10)], cat = 'Binary')\n",
        "\n",
        "#Função Objetivo\n",
        "prob += lpSum(10*mtzX[0,0]+15*mtzX[0,1]+10*mtzX[0,2]+15*mtzX[0,3]+20*mtzX[0,4]+20*mtzX[0,5]+20*mtzX[0,6]+40*mtzX[0,7]+10*mtzX[0,8]+30*mtzX[0,9]\n",
        "+30*mtzX[1,0]+15*mtzX[1,1]+10*mtzX[1,2]+20*mtzX[1,3]+10*mtzX[1,4]+20*mtzX[1,5]+20*mtzX[1,6]+30*mtzX[1,7]+20*mtzX[1,8]+30*mtzX[1,9] \n",
        "+20*mtzX[2,0]+10*mtzX[2,1]+5*mtzX[2,2]+15*mtzX[2,3]+10*mtzX[2,4]+15*mtzX[2,5]+15*mtzX[2,6]+10*mtzX[2,7]+5*mtzX[2,8]+5*mtzX[2,9]\n",
        "+40*mtzX[3,0]+25*mtzX[3,1]+15*mtzX[3,2]+20*mtzX[3,3]+10*mtzX[3,4]+30*mtzX[3,5]+30*mtzX[3,6]+10*mtzX[3,7]+15*mtzX[3,8]+10*mtzX[3,9]\n",
        "+30*mtzX[4,0]+30*mtzX[4,1]+25*mtzX[4,2]+10*mtzX[4,3]+5*mtzX[4,4]+35*mtzX[4,5]+35*mtzX[4,6]+15*mtzX[4,7]+5*mtzX[4,8]+10*mtzX[4,9])\n",
        "\n",
        "#Restrições Filiais (Capacidade máxima de entrega)\n",
        "prob += lpSum(mtzX[0,0]+mtzX[0,1]+mtzX[0,2]+mtzX[0,3]+mtzX[0,4]+mtzX[0,5]+mtzX[0,6]+mtzX[0,7]+mtzX[0,8]+mtzX[0,9]) <= 175 \n",
        "prob += lpSum(mtzX[1,0]+mtzX[1,1]+mtzX[1,2]+mtzX[1,3]+mtzX[1,4]+mtzX[1,5]+mtzX[1,6]+mtzX[1,7]+mtzX[1,8]+mtzX[1,9]) <= 175\n",
        "prob += lpSum(mtzX[2,0]+mtzX[2,1]+mtzX[2,2]+mtzX[2,3]+mtzX[2,4]+mtzX[2,5]+mtzX[2,6]+mtzX[2,7]+mtzX[2,8]+mtzX[2,9]) <= 175\n",
        "prob += lpSum(mtzX[3,0]+mtzX[3,1]+mtzX[3,2]+mtzX[3,3]+mtzX[3,4]+mtzX[3,5]+mtzX[3,6]+mtzX[3,7]+mtzX[3,8]+mtzX[3,9]) <= 175\n",
        "prob += lpSum(mtzX[4,0]+mtzX[4,1]+mtzX[4,2]+mtzX[4,3]+mtzX[4,4]+mtzX[4,5]+mtzX[4,6]+mtzX[4,7]+mtzX[4,8]+mtzX[4,9]) <= 175\n",
        "\n",
        "#Restrições Filiais (Capacidade mínima de entrega)\n",
        "for i in range(5):\n",
        "  for j in range(10): \n",
        "    prob += mtzX[i,j] >= lst_entrmin[i] * mtzY[i,j]\n",
        "\n",
        "#Restrições Contratos (Demanda)\n",
        "prob += lpSum(mtzX[0,0]+mtzX[1,0]+mtzX[2,0]+mtzX[3,0]+mtzX[4,0]) == 100\n",
        "prob += lpSum(mtzX[0,1]+mtzX[1,1]+mtzX[2,1]+mtzX[3,1]+mtzX[4,1]) == 65\n",
        "prob += lpSum(mtzX[0,2]+mtzX[1,2]+mtzX[2,2]+mtzX[3,2]+mtzX[4,2]) == 100\n",
        "prob += lpSum(mtzX[0,3]+mtzX[1,3]+mtzX[2,3]+mtzX[3,3]+mtzX[4,3]) == 70\n",
        "prob += lpSum(mtzX[0,4]+mtzX[1,4]+mtzX[2,4]+mtzX[3,4]+mtzX[4,4]) == 120\n",
        "prob += lpSum(mtzX[0,5]+mtzX[1,5]+mtzX[2,5]+mtzX[3,5]+mtzX[4,5]) == 60\n",
        "prob += lpSum(mtzX[0,6]+mtzX[1,6]+mtzX[2,6]+mtzX[3,6]+mtzX[4,6]) == 75\n",
        "prob += lpSum(mtzX[0,7]+mtzX[1,7]+mtzX[2,7]+mtzX[3,7]+mtzX[4,7]) == 100\n",
        "prob += lpSum(mtzX[0,8]+mtzX[1,8]+mtzX[2,8]+mtzX[3,8]+mtzX[4,8]) == 95\n",
        "prob += lpSum(mtzX[0,9]+mtzX[1,9]+mtzX[2,9]+mtzX[3,9]+mtzX[4,9]) == 85\n",
        "\n",
        "#Restrições Contratos (Número mínimo de fornecedores)\n",
        "prob += lpSum(mtzY[0,0]+mtzY[1,0]+mtzY[2,0]+mtzY[3,0]+mtzY[4,0]) == 3\n",
        "prob += lpSum(mtzY[0,1]+mtzY[1,1]+mtzY[2,1]+mtzY[3,1]+mtzY[4,1]) == 2\n",
        "prob += lpSum(mtzY[0,2]+mtzY[1,2]+mtzY[2,2]+mtzY[3,2]+mtzY[4,2]) == 3\n",
        "prob += lpSum(mtzY[0,3]+mtzY[1,3]+mtzY[2,3]+mtzY[3,3]+mtzY[4,3]) == 2\n",
        "prob += lpSum(mtzY[0,4]+mtzY[1,4]+mtzY[2,4]+mtzY[3,4]+mtzY[4,4]) == 3\n",
        "prob += lpSum(mtzY[0,5]+mtzY[1,5]+mtzY[2,5]+mtzY[3,5]+mtzY[4,5]) == 2\n",
        "prob += lpSum(mtzY[0,6]+mtzY[1,6]+mtzY[2,6]+mtzY[3,6]+mtzY[4,6]) == 2\n",
        "prob += lpSum(mtzY[0,7]+mtzY[1,7]+mtzY[2,7]+mtzY[3,7]+mtzY[4,7]) == 3\n",
        "prob += lpSum(mtzY[0,8]+mtzY[1,8]+mtzY[2,8]+mtzY[3,8]+mtzY[4,8]) == 3\n",
        "prob += lpSum(mtzY[0,9]+mtzY[1,9]+mtzY[2,9]+mtzY[3,9]+mtzY[4,9]) == 3\n",
        "\n",
        "#Restrições Contratos entre Matrizes (Número mínimo de fornecedores)\n",
        "prob += (mtzX[0,0]+mtzX[0,1]+mtzX[0,2]+mtzX[0,3]+mtzX[0,4]+mtzX[0,5]+mtzX[0,6]+mtzX[0,7]+mtzX[0,8]+mtzX[0,9]+\n",
        " mtzX[1,0]+mtzX[1,1]+mtzX[1,2]+mtzX[1,3]+mtzX[1,4]+mtzX[1,5]+mtzX[1,6]+mtzX[1,7]+mtzX[1,8]+mtzX[1,9]+\n",
        " mtzX[2,0]+mtzX[2,1]+mtzX[2,2]+mtzX[2,3]+mtzX[2,4]+mtzX[2,5]+mtzX[2,6]+mtzX[2,7]+mtzX[2,8]+mtzX[2,9]+\n",
        " mtzX[3,0]+mtzX[3,1]+mtzX[3,2]+mtzX[3,3]+mtzX[3,4]+mtzX[3,5]+mtzX[3,6]+mtzX[3,7]+mtzX[3,8]+mtzX[3,9]+\n",
        " mtzX[4,0]+mtzX[4,1]+mtzX[4,2]+mtzX[4,3]+mtzX[4,4]+mtzX[4,5]+mtzX[4,6]+mtzX[4,7]+mtzX[4,8]+mtzX[4,9]) <= 175*(mtzY[0,0]+\n",
        " mtzY[0,1]+mtzY[0,2]+mtzY[0,3]+mtzY[0,4]+mtzY[0,5]+mtzY[0,6]+mtzY[0,7]+mtzY[0,8]+mtzY[0,9]+\n",
        " mtzY[1,0]+mtzY[1,1]+mtzY[1,2]+mtzY[1,3]+mtzY[1,4]+mtzY[1,5]+mtzY[1,6]+mtzY[1,7]+mtzY[1,8]+mtzY[1,9]+\n",
        " mtzY[2,0]+mtzY[2,1]+mtzY[2,2]+mtzY[2,3]+mtzY[2,4]+mtzY[2,5]+mtzY[2,6]+mtzY[2,7]+mtzY[2,8]+mtzY[2,9]+\n",
        " mtzY[3,0]+mtzY[3,1]+mtzY[3,2]+mtzY[3,3]+mtzY[3,4]+mtzY[3,5]+mtzY[3,6]+mtzY[3,7]+mtzY[3,8]+mtzY[3,9]+\n",
        " mtzY[4,0]+mtzY[4,1]+mtzY[4,2]+mtzY[4,3]+mtzY[4,4]+mtzY[4,5]+mtzY[4,6]+mtzY[4,7]+mtzY[4,8]+mtzY[4,9])\n",
        "\n",
        "#Resolução\n",
        "optimization_result = prob.solve()\n",
        "\n",
        "#O que mostra na tela\n",
        "print(\"\\n\\nCusto Minimizado = R$\", value(prob.objective))\n",
        "print('\\n')\n",
        "print('Filial 1 - Seattle, Filial 2 - San Francisco,') \n",
        "print('Filial 3 - Las Vegas, Filial 4 - Phoenix, Filial 5 - Denver.') \n",
        "print('\\nContrato 1 - Washington, Contrato 2 - Oregon, Contrato 3 - California,') \n",
        "print('Contrato 4 - Idaho, Contrato 5 - Nevada,\\nContrato 6 - Montana, Contrato 7 - Wyoming,') \n",
        "print('Contrato 8 - Arizona, Contrato 9 - Utah, Contrato 10 - Colorado.\\n')\n",
        "\n",
        "for j in range(10):\n",
        "  for i in range(5):\n",
        "    if (mtzY[i,j].varValue == 1) and (mtzX[i,j].varValue != 0):\n",
        "      print(f'Contrato {j+1} atendido pela Filial {i+1} = {mtzX[i,j].varValue}')\n"
      ],
      "execution_count": null,
      "outputs": [
        {
          "output_type": "stream",
          "text": [
            "\n",
            "\n",
            "Custo Minimizado = R$ 11250.0\n",
            "\n",
            "\n",
            "Filial 1 - Seattle, Filial 2 - San Francisco,\n",
            "Filial 3 - Las Vegas, Filial 4 - Phoenix, Filial 5 - Denver.\n",
            "\n",
            "Contrato 1 - Washington, Contrato 2 - Oregon, Contrato 3 - California,\n",
            "Contrato 4 - Idaho, Contrato 5 - Nevada,\n",
            "Contrato 6 - Montana, Contrato 7 - Wyoming,\n",
            "Contrato 8 - Arizona, Contrato 9 - Utah, Contrato 10 - Colorado.\n",
            "\n",
            "Contrato 1 atendido pela Filial 1 = 45.0\n",
            "Contrato 1 atendido pela Filial 3 = 30.0\n",
            "Contrato 1 atendido pela Filial 5 = 25.0\n",
            "Contrato 2 atendido pela Filial 1 = 25.0\n",
            "Contrato 2 atendido pela Filial 2 = 30.0\n",
            "Contrato 3 atendido pela Filial 1 = 25.0\n",
            "Contrato 3 atendido pela Filial 2 = 45.0\n",
            "Contrato 3 atendido pela Filial 3 = 30.0\n",
            "Contrato 4 atendido pela Filial 4 = 35.0\n",
            "Contrato 4 atendido pela Filial 5 = 35.0\n",
            "Contrato 5 atendido pela Filial 2 = 30.0\n",
            "Contrato 5 atendido pela Filial 4 = 55.0\n",
            "Contrato 5 atendido pela Filial 5 = 35.0\n",
            "Contrato 6 atendido pela Filial 1 = 25.0\n",
            "Contrato 6 atendido pela Filial 2 = 35.0\n",
            "Contrato 7 atendido pela Filial 2 = 35.0\n",
            "Contrato 7 atendido pela Filial 3 = 40.0\n",
            "Contrato 8 atendido pela Filial 3 = 30.0\n",
            "Contrato 8 atendido pela Filial 4 = 45.0\n",
            "Contrato 8 atendido pela Filial 5 = 25.0\n",
            "Contrato 9 atendido pela Filial 1 = 30.0\n",
            "Contrato 9 atendido pela Filial 3 = 35.0\n",
            "Contrato 9 atendido pela Filial 5 = 30.0\n",
            "Contrato 10 atendido pela Filial 1 = 25.0\n",
            "Contrato 10 atendido pela Filial 4 = 35.0\n",
            "Contrato 10 atendido pela Filial 5 = 25.0\n"
          ],
          "name": "stdout"
        }
      ]
    },
    {
      "cell_type": "code",
      "metadata": {
        "id": "az7VzCDVNPx7"
      },
      "source": [
        ""
      ],
      "execution_count": null,
      "outputs": []
    }
  ]
}