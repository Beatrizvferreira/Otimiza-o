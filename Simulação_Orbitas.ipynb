{
  "nbformat": 4,
  "nbformat_minor": 0,
  "metadata": {
    "colab": {
      "name": "Simulação - Orbitas",
      "provenance": [],
      "authorship_tag": "ABX9TyOLK+bQswDxOltto5q50p8e",
      "include_colab_link": true
    },
    "kernelspec": {
      "name": "python3",
      "display_name": "Python 3"
    },
    "language_info": {
      "name": "python"
    }
  },
  "cells": [
    {
      "cell_type": "markdown",
      "metadata": {
        "id": "view-in-github",
        "colab_type": "text"
      },
      "source": [
        "<a href=\"https://colab.research.google.com/github/Beatrizvferreira/Otimizacao/blob/master/Simula%C3%A7%C3%A3o_Orbitas.ipynb\" target=\"_parent\"><img src=\"https://colab.research.google.com/assets/colab-badge.svg\" alt=\"Open In Colab\"/></a>"
      ]
    },
    {
      "cell_type": "code",
      "metadata": {
        "id": "pbtK4wsUPa1k"
      },
      "source": [
        "import pylab\n",
        "import math"
      ],
      "execution_count": 3,
      "outputs": []
    },
    {
      "cell_type": "code",
      "metadata": {
        "colab": {
          "base_uri": "https://localhost:8080/",
          "height": 283
        },
        "id": "8mgeKHcJPpsI",
        "outputId": "f34a1d21-98f2-4cb1-9bbc-cb0adb692a57"
      },
      "source": [
        "k = 0.01720209395\n",
        "GM = k**2\n",
        "r = 1\n",
        "theta = -math.pi/2\n",
        "v = 0\n",
        "omega = 2*math.pi/365.25\n",
        "\n",
        "L = omega*r*r\n",
        "Energia = 0.5*(v**2 + (L/r)**2) -GM/r\n",
        "x = [ ]\n",
        "y = [ ]\n",
        "\n",
        "dt = 0.01\n",
        "theta_inicial = theta\n",
        "theta_final = theta_inicial + 2*math.pi\n",
        "\n",
        "if (Energia< 0):\n",
        "  while(theta <theta_final):\n",
        "    a = (L**2)/(r**3) -GM/(r**2)\n",
        "    v = v + a*dt\n",
        "    r = r + v*dt\n",
        "    omega = L/r**2\n",
        "    theta = theta + omega*dt\n",
        "    x.append(r*math.cos(theta))\n",
        "    y.append(r*math.sin(theta))\n",
        "\n",
        "pylab.ylim(-1.5, 1.5)\n",
        "pylab.xlim(-1.5, 1.5)\n",
        "\n",
        "pylab.xlabel(\"x (UA)\")\n",
        "pylab.ylabel(\"y (UA)\")\n",
        "pylab.plot(x,y, label = \"Orbita\")\n",
        "\n",
        "pylab.scatter(0,0, s = 800, c = 'yellow', alpha = 1)\n",
        "\n",
        "pylab.legend()\n",
        "pylab.grid()\n",
        "pylab.show()"
      ],
      "execution_count": 27,
      "outputs": [
        {
          "output_type": "display_data",
          "data": {
            "image/png": "[encoded data removed]",
            "text/plain": [
              "<Figure size 432x288 with 1 Axes>"
            ]
          },
          "metadata": {
            "tags": [],
            "needs_background": "light"
          }
        }
      ]
    },
    {
      "cell_type": "markdown",
      "metadata": {
        "id": "XlR1OH6zU-zU"
      },
      "source": [
        ""
      ]
    }
  ]
}